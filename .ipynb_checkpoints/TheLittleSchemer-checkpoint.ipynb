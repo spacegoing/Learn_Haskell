{
 "cells": [
  {
   "cell_type": "code",
   "execution_count": 5,
   "metadata": {},
   "outputs": [
    {
     "data": {
      "text/plain": [
       "atom?"
      ]
     },
     "execution_count": 5,
     "metadata": {},
     "output_type": "execute_result"
    }
   ],
   "source": [
    "(define atom? \n",
    "    (lambda (x)\n",
    "        (and (not (pair? x)) (not (null? x)))))"
   ]
  },
  {
   "cell_type": "markdown",
   "metadata": {},
   "source": [
    "# Ch1\n",
    "\n",
    "- atom: string\n",
    "- list: surround by `()`; collection of S-expressions\n",
    "- S-expressions: atom, list, \n",
    "\n",
    "\n",
    "- `car`\n",
    "    - input: non-empty `list`\n",
    "    - output: first S-expression of input\n",
    "\n",
    "\n",
    "- `cdr`\n",
    "    - input: non-empty `list`\n",
    "    - output: `list` of input list without `(car input-list)`\n",
    "    \n",
    "    \n",
    "    "
   ]
  }
 ],
 "metadata": {
  "kernelspec": {
   "display_name": "MIT Scheme",
   "language": "scheme",
   "name": "mit-scheme"
  },
  "language_info": {
   "codemirror_mode": "scheme",
   "file_extension": ".scm",
   "mimetype": "application/x-scheme",
   "name": "MIT Scheme",
   "pygments_lexer": "scheme",
   "version": "9.2.1"
  }
 },
 "nbformat": 4,
 "nbformat_minor": 2
}
